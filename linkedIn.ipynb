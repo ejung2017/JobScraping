{
 "cells": [
  {
   "cell_type": "code",
   "execution_count": 5,
   "metadata": {},
   "outputs": [
    {
     "name": "stdout",
     "output_type": "stream",
     "text": [
      "Looking in indexes: https://pypi.python.org/simple, https://pypi.apple.com/simple\n",
      "Requirement already satisfied: selenium in ./miniconda3/lib/python3.12/site-packages (4.33.0)\n",
      "Requirement already satisfied: urllib3~=2.4.0 in ./miniconda3/lib/python3.12/site-packages (from urllib3[socks]~=2.4.0->selenium) (2.4.0)\n",
      "Requirement already satisfied: trio~=0.30.0 in ./miniconda3/lib/python3.12/site-packages (from selenium) (0.30.0)\n",
      "Requirement already satisfied: trio-websocket~=0.12.2 in ./miniconda3/lib/python3.12/site-packages (from selenium) (0.12.2)\n",
      "Requirement already satisfied: certifi>=2025.4.26 in ./miniconda3/lib/python3.12/site-packages (from selenium) (2025.4.26)\n",
      "Requirement already satisfied: typing_extensions~=4.13.2 in ./miniconda3/lib/python3.12/site-packages (from selenium) (4.13.2)\n",
      "Requirement already satisfied: websocket-client~=1.8.0 in ./miniconda3/lib/python3.12/site-packages (from selenium) (1.8.0)\n",
      "Requirement already satisfied: attrs>=23.2.0 in ./miniconda3/lib/python3.12/site-packages (from trio~=0.30.0->selenium) (25.3.0)\n",
      "Requirement already satisfied: sortedcontainers in ./miniconda3/lib/python3.12/site-packages (from trio~=0.30.0->selenium) (2.4.0)\n",
      "Requirement already satisfied: idna in ./miniconda3/lib/python3.12/site-packages (from trio~=0.30.0->selenium) (3.7)\n",
      "Requirement already satisfied: outcome in ./miniconda3/lib/python3.12/site-packages (from trio~=0.30.0->selenium) (1.3.0.post0)\n",
      "Requirement already satisfied: sniffio>=1.3.0 in ./miniconda3/lib/python3.12/site-packages (from trio~=0.30.0->selenium) (1.3.1)\n",
      "Requirement already satisfied: wsproto>=0.14 in ./miniconda3/lib/python3.12/site-packages (from trio-websocket~=0.12.2->selenium) (1.2.0)\n",
      "Requirement already satisfied: pysocks!=1.5.7,<2.0,>=1.5.6 in ./miniconda3/lib/python3.12/site-packages (from urllib3[socks]~=2.4.0->selenium) (1.7.1)\n",
      "Requirement already satisfied: h11<1,>=0.9.0 in ./miniconda3/lib/python3.12/site-packages (from wsproto>=0.14->trio-websocket~=0.12.2->selenium) (0.16.0)\n"
     ]
    }
   ],
   "source": [
    "!pip install selenium"
   ]
  },
  {
   "cell_type": "code",
   "execution_count": 17,
   "metadata": {},
   "outputs": [],
   "source": [
    "import pandas as pd \n",
    "import time\n",
    "import re\n",
    "from selenium import webdriver\n",
    "from selenium.webdriver.chrome.service import Service\n",
    "from selenium.webdriver.chrome.options import Options\n",
    "from selenium.webdriver.common.by import By\n",
    "from selenium.common.exceptions import NoSuchElementException\n",
    "\n",
    "driver_path = \"/opt/homebrew/bin/chromedriver\"\n",
    "\n",
    "#1. Setting up chromedriver\n",
    "service = Service(driver_path)\n",
    "options = Options()\n",
    "options.add_argument(\"--start-maximized\")\n",
    "options.add_argument(\"user-agent=Mozilla/5.0 (Macintosh; Intel Mac OS X 10_15_7) AppleWebKit/537.36 Chrome/120 Safari/537.36\")\n",
    "\n",
    "driver = webdriver.Chrome(service=service, options=options)"
   ]
  },
  {
   "cell_type": "code",
   "execution_count": 23,
   "metadata": {},
   "outputs": [],
   "source": [
    "#2. Getting the LinkedIn URL \n",
    "title = \"Data%20Scientist\"\n",
    "location = \"103291313\"\n",
    "start = 25\n",
    "list_url = f\"https://www.linkedin.com/jobs-guest/jobs/api/seeMoreJobPostings/search?keywords={title}&geoId={location}&start={start}\"\n",
    "\n",
    "# list_url = \"https://www.linkedin.com/jobs/search/?currentJobId=4226976735&geoId=103291313&keywords=data%20scientist&origin=JOB_SEARCH_PAGE_SEARCH_BUTTON&refresh=true\"\n",
    "\n",
    "driver.get(list_url)\n",
    "time.sleep(3)"
   ]
  },
  {
   "cell_type": "code",
   "execution_count": 26,
   "metadata": {},
   "outputs": [
    {
     "name": "stdout",
     "output_type": "stream",
     "text": [
      "📄 Collecting data from page 1 ...\n",
      "⛔️ There's no more pages.\n"
     ]
    }
   ],
   "source": [
    "#3. Collecting data\n",
    "jobs_list = []\n",
    "page = 1\n",
    "max_pages = 3\n",
    "\n",
    "while page <= max_pages:\n",
    "    print(f\"📄 Collecting data from page {page} ...\")\n",
    "\n",
    "    review_elements = driver.find_elements(By.CSS_SELECTOR, \"li[data-hook='review']\")\n",
    "    for r in review_elements:\n",
    "        try:\n",
    "            # Company Name\n",
    "            try:\n",
    "                company_name = r.find_element(By.CSS_SELECTOR, \"a[data-tracking-control-name='public_jobs_jserp-result_job-search-card-subtitle']\").text\n",
    "            except:\n",
    "                company_name = r.find_element(By.CSS_SELECTOR, \"a[data-tracking-control-name='public_jobs_jserp-result_job-search-card-subtitle']\").text\n",
    "            rating = float(re.search(r\"(\\d+(\\.\\d+)?)\", company_name).group(1)) if company_name else None\n",
    "\n",
    "            # Job Title\n",
    "            title = r.find_element(By.CSS_SELECTOR, \"[class='base-search-card__title']\").text.strip()\n",
    "\n",
    "            # Posted Date\n",
    "            date = r.find_element(By.CSS_SELECTOR, \"time[class='job-search-card__listdate']\").text.strip()\n",
    "\n",
    "            # Job Description\n",
    "            # body = r.find_element(By.CSS_SELECTOR, \"[class='mt4']\").text.strip()\n",
    "\n",
    "            jobs_list.append({\n",
    "                \"company\": company_name,\n",
    "                \"title\": title,\n",
    "                \"date\": date,\n",
    "                # \"body\": body\n",
    "            })\n",
    "\n",
    "        except Exception as e:\n",
    "            print(\"❌ Failed with Parsing:\", e)\n",
    "            continue\n",
    "\n",
    "    # Click next page\n",
    "    try:\n",
    "        next_button = driver.find_element(By.CSS_SELECTOR, \"li.a-last a\")\n",
    "        next_button.click()\n",
    "        page += 1\n",
    "        time.sleep(3)\n",
    "    except NoSuchElementException:\n",
    "        print(\"⛔️ There's no more pages.\")\n",
    "        break"
   ]
  },
  {
   "cell_type": "code",
   "execution_count": 27,
   "metadata": {},
   "outputs": [
    {
     "name": "stdout",
     "output_type": "stream",
     "text": [
      "Empty DataFrame\n",
      "Columns: []\n",
      "Index: []\n"
     ]
    }
   ],
   "source": [
    "# 5. 결과 보기\n",
    "df = pd.DataFrame(jobs_list)\n",
    "print(df)"
   ]
  }
 ],
 "metadata": {
  "kernelspec": {
   "display_name": "Python 3",
   "language": "python",
   "name": "python3"
  },
  "language_info": {
   "codemirror_mode": {
    "name": "ipython",
    "version": 3
   },
   "file_extension": ".py",
   "mimetype": "text/x-python",
   "name": "python",
   "nbconvert_exporter": "python",
   "pygments_lexer": "ipython3",
   "version": "3.12.2"
  }
 },
 "nbformat": 4,
 "nbformat_minor": 2
}
